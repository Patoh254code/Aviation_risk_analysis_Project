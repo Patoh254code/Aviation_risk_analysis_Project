{
 "cells": [
  {
   "cell_type": "markdown",
   "metadata": {},
   "source": [
    "# 1.0 *Project Title:* \n",
    "# **Aircraft Risk Assessment for Business Expansion**\n",
    "\n",
    "### **Author:** Patrice Okoiti\n",
    "\n",
    "## 1.1 **Data Understanding**\n",
    "The selected Dataset https://www.kaggle.com/datasets/khsamaha/aviation-accident-database-synopses for our analysis is from the National Transportation Safety Board, available on Kaggle, detailing the civil aviation accidents and selected incidents in the United States and international waters between 1962 and 2023. It details aircraft accidents, including information on accident, aircraft specifications, weather conditions, and injury severity which are relevant to our analysis.\n",
    "\n",
    "### 1.1.1 **column description**\n",
    "| **Columns** | **Description** |\n",
    "|-------------|-----------------|\n",
    "| Event Id, Accident Number, Event Date, Location, Country, Latitude, Longitude, Airport Code, Airport Name | Unique identifiers for each accident and its location. |\n",
    "| Make, Model, Aircraft Category, Amateur Built, Number of Engines, Engine Type | Details about the aircraft involved in the accident. |\n",
    "| Injury Severity, Aircraft Damage, Weather Condition, Broad Phase of Flight | Risk factors contributing to the accident. |\n",
    "| FAR Description, Schedule, Purpose of Flight, Air Carrier | Type of operations and flight purpose. |\n",
    "| Total Fatal Injuries, Total Serious Injuries, Total Minor Injuries, Total Uninjured | Casualties per accident. |\n",
    "\n",
    "## 1.2 **Business Problem**\n",
    "Our company is diversifying their portfolio by venturing into the aviation industry. The aim is to purchase and operate aircraft for commercial and private enterprises. However, aviation involves significant safety risks, including accidents and operational hazards. The goal of this project is to analyze historical aircraft accident data to identify low-risk aircraft models and key risk factors that could impact operations.\n",
    "\n",
    "### 1.2.1 **Objectives**\n",
    "1.Identify the type of aircract with lowest accidents rate\n",
    "\n",
    "2.Identify risk factors contributing to aircraft accidents\n",
    "\n",
    "3.Evaluate flight risks based on operations\n",
    "\n",
    "\n"
   ]
  },
  {
   "cell_type": "code",
   "execution_count": 25,
   "metadata": {},
   "outputs": [],
   "source": [
    "# First step is to import the important libraries\n",
    "import pandas as pd\n",
    "import numpy as np\n",
    "import matplotlib.pyplot as plt\n",
    "import seaborn as sns\n",
    "%matplotlib inline"
   ]
  },
  {
   "cell_type": "markdown",
   "metadata": {},
   "source": [
    "## 1.3 **Data Mining**\n",
    "\n",
    "This involves reading and loading our data on to our notebook based on the file format"
   ]
  },
  {
   "cell_type": "code",
   "execution_count": 26,
   "metadata": {},
   "outputs": [
    {
     "data": {
      "text/html": [
       "<div>\n",
       "<style scoped>\n",
       "    .dataframe tbody tr th:only-of-type {\n",
       "        vertical-align: middle;\n",
       "    }\n",
       "\n",
       "    .dataframe tbody tr th {\n",
       "        vertical-align: top;\n",
       "    }\n",
       "\n",
       "    .dataframe thead th {\n",
       "        text-align: right;\n",
       "    }\n",
       "</style>\n",
       "<table border=\"1\" class=\"dataframe\">\n",
       "  <thead>\n",
       "    <tr style=\"text-align: right;\">\n",
       "      <th></th>\n",
       "      <th>Event.Id</th>\n",
       "      <th>Investigation.Type</th>\n",
       "      <th>Accident.Number</th>\n",
       "      <th>Event.Date</th>\n",
       "      <th>Location</th>\n",
       "      <th>Country</th>\n",
       "      <th>Latitude</th>\n",
       "      <th>Longitude</th>\n",
       "      <th>Airport.Code</th>\n",
       "      <th>Airport.Name</th>\n",
       "      <th>...</th>\n",
       "      <th>Purpose.of.flight</th>\n",
       "      <th>Air.carrier</th>\n",
       "      <th>Total.Fatal.Injuries</th>\n",
       "      <th>Total.Serious.Injuries</th>\n",
       "      <th>Total.Minor.Injuries</th>\n",
       "      <th>Total.Uninjured</th>\n",
       "      <th>Weather.Condition</th>\n",
       "      <th>Broad.phase.of.flight</th>\n",
       "      <th>Report.Status</th>\n",
       "      <th>Publication.Date</th>\n",
       "    </tr>\n",
       "  </thead>\n",
       "  <tbody>\n",
       "    <tr>\n",
       "      <th>0</th>\n",
       "      <td>20001218X45444</td>\n",
       "      <td>Accident</td>\n",
       "      <td>SEA87LA080</td>\n",
       "      <td>1948-10-24</td>\n",
       "      <td>MOOSE CREEK, ID</td>\n",
       "      <td>United States</td>\n",
       "      <td>NaN</td>\n",
       "      <td>NaN</td>\n",
       "      <td>NaN</td>\n",
       "      <td>NaN</td>\n",
       "      <td>...</td>\n",
       "      <td>Personal</td>\n",
       "      <td>NaN</td>\n",
       "      <td>2.0</td>\n",
       "      <td>0.0</td>\n",
       "      <td>0.0</td>\n",
       "      <td>0.0</td>\n",
       "      <td>UNK</td>\n",
       "      <td>Cruise</td>\n",
       "      <td>Probable Cause</td>\n",
       "      <td>NaN</td>\n",
       "    </tr>\n",
       "    <tr>\n",
       "      <th>1</th>\n",
       "      <td>20001218X45447</td>\n",
       "      <td>Accident</td>\n",
       "      <td>LAX94LA336</td>\n",
       "      <td>1962-07-19</td>\n",
       "      <td>BRIDGEPORT, CA</td>\n",
       "      <td>United States</td>\n",
       "      <td>NaN</td>\n",
       "      <td>NaN</td>\n",
       "      <td>NaN</td>\n",
       "      <td>NaN</td>\n",
       "      <td>...</td>\n",
       "      <td>Personal</td>\n",
       "      <td>NaN</td>\n",
       "      <td>4.0</td>\n",
       "      <td>0.0</td>\n",
       "      <td>0.0</td>\n",
       "      <td>0.0</td>\n",
       "      <td>UNK</td>\n",
       "      <td>Unknown</td>\n",
       "      <td>Probable Cause</td>\n",
       "      <td>19-09-1996</td>\n",
       "    </tr>\n",
       "    <tr>\n",
       "      <th>2</th>\n",
       "      <td>20061025X01555</td>\n",
       "      <td>Accident</td>\n",
       "      <td>NYC07LA005</td>\n",
       "      <td>1974-08-30</td>\n",
       "      <td>Saltville, VA</td>\n",
       "      <td>United States</td>\n",
       "      <td>36.922223</td>\n",
       "      <td>-81.878056</td>\n",
       "      <td>NaN</td>\n",
       "      <td>NaN</td>\n",
       "      <td>...</td>\n",
       "      <td>Personal</td>\n",
       "      <td>NaN</td>\n",
       "      <td>3.0</td>\n",
       "      <td>NaN</td>\n",
       "      <td>NaN</td>\n",
       "      <td>NaN</td>\n",
       "      <td>IMC</td>\n",
       "      <td>Cruise</td>\n",
       "      <td>Probable Cause</td>\n",
       "      <td>26-02-2007</td>\n",
       "    </tr>\n",
       "    <tr>\n",
       "      <th>3</th>\n",
       "      <td>20001218X45448</td>\n",
       "      <td>Accident</td>\n",
       "      <td>LAX96LA321</td>\n",
       "      <td>1977-06-19</td>\n",
       "      <td>EUREKA, CA</td>\n",
       "      <td>United States</td>\n",
       "      <td>NaN</td>\n",
       "      <td>NaN</td>\n",
       "      <td>NaN</td>\n",
       "      <td>NaN</td>\n",
       "      <td>...</td>\n",
       "      <td>Personal</td>\n",
       "      <td>NaN</td>\n",
       "      <td>2.0</td>\n",
       "      <td>0.0</td>\n",
       "      <td>0.0</td>\n",
       "      <td>0.0</td>\n",
       "      <td>IMC</td>\n",
       "      <td>Cruise</td>\n",
       "      <td>Probable Cause</td>\n",
       "      <td>12-09-2000</td>\n",
       "    </tr>\n",
       "    <tr>\n",
       "      <th>4</th>\n",
       "      <td>20041105X01764</td>\n",
       "      <td>Accident</td>\n",
       "      <td>CHI79FA064</td>\n",
       "      <td>1979-08-02</td>\n",
       "      <td>Canton, OH</td>\n",
       "      <td>United States</td>\n",
       "      <td>NaN</td>\n",
       "      <td>NaN</td>\n",
       "      <td>NaN</td>\n",
       "      <td>NaN</td>\n",
       "      <td>...</td>\n",
       "      <td>Personal</td>\n",
       "      <td>NaN</td>\n",
       "      <td>1.0</td>\n",
       "      <td>2.0</td>\n",
       "      <td>NaN</td>\n",
       "      <td>0.0</td>\n",
       "      <td>VMC</td>\n",
       "      <td>Approach</td>\n",
       "      <td>Probable Cause</td>\n",
       "      <td>16-04-1980</td>\n",
       "    </tr>\n",
       "  </tbody>\n",
       "</table>\n",
       "<p>5 rows × 31 columns</p>\n",
       "</div>"
      ],
      "text/plain": [
       "         Event.Id Investigation.Type Accident.Number  Event.Date  \\\n",
       "0  20001218X45444           Accident      SEA87LA080  1948-10-24   \n",
       "1  20001218X45447           Accident      LAX94LA336  1962-07-19   \n",
       "2  20061025X01555           Accident      NYC07LA005  1974-08-30   \n",
       "3  20001218X45448           Accident      LAX96LA321  1977-06-19   \n",
       "4  20041105X01764           Accident      CHI79FA064  1979-08-02   \n",
       "\n",
       "          Location        Country   Latitude   Longitude Airport.Code  \\\n",
       "0  MOOSE CREEK, ID  United States        NaN         NaN          NaN   \n",
       "1   BRIDGEPORT, CA  United States        NaN         NaN          NaN   \n",
       "2    Saltville, VA  United States  36.922223  -81.878056          NaN   \n",
       "3       EUREKA, CA  United States        NaN         NaN          NaN   \n",
       "4       Canton, OH  United States        NaN         NaN          NaN   \n",
       "\n",
       "  Airport.Name  ... Purpose.of.flight Air.carrier Total.Fatal.Injuries  \\\n",
       "0          NaN  ...          Personal         NaN                  2.0   \n",
       "1          NaN  ...          Personal         NaN                  4.0   \n",
       "2          NaN  ...          Personal         NaN                  3.0   \n",
       "3          NaN  ...          Personal         NaN                  2.0   \n",
       "4          NaN  ...          Personal         NaN                  1.0   \n",
       "\n",
       "  Total.Serious.Injuries Total.Minor.Injuries Total.Uninjured  \\\n",
       "0                    0.0                  0.0             0.0   \n",
       "1                    0.0                  0.0             0.0   \n",
       "2                    NaN                  NaN             NaN   \n",
       "3                    0.0                  0.0             0.0   \n",
       "4                    2.0                  NaN             0.0   \n",
       "\n",
       "  Weather.Condition  Broad.phase.of.flight   Report.Status Publication.Date  \n",
       "0               UNK                 Cruise  Probable Cause              NaN  \n",
       "1               UNK                Unknown  Probable Cause       19-09-1996  \n",
       "2               IMC                 Cruise  Probable Cause       26-02-2007  \n",
       "3               IMC                 Cruise  Probable Cause       12-09-2000  \n",
       "4               VMC               Approach  Probable Cause       16-04-1980  \n",
       "\n",
       "[5 rows x 31 columns]"
      ]
     },
     "execution_count": 26,
     "metadata": {},
     "output_type": "execute_result"
    }
   ],
   "source": [
    "# Next step is data loading\n",
    "df = pd.read_csv('Data/AviationData.csv', encoding='latin-1', low_memory=False)\n",
    "# Display the fisrt 5 rows of the dataframe\n",
    "df.head()"
   ]
  },
  {
   "cell_type": "markdown",
   "metadata": {},
   "source": [
    "## 1.4 **Data Preparation**\n",
    "\n",
    "This involved inspecting our dataset to identify the shape, name of columns, datatype of each column and any columns with missing values"
   ]
  },
  {
   "cell_type": "code",
   "execution_count": 27,
   "metadata": {},
   "outputs": [
    {
     "name": "stdout",
     "output_type": "stream",
     "text": [
      "<class 'pandas.core.frame.DataFrame'>\n",
      "RangeIndex: 88889 entries, 0 to 88888\n",
      "Data columns (total 31 columns):\n",
      " #   Column                  Non-Null Count  Dtype  \n",
      "---  ------                  --------------  -----  \n",
      " 0   Event.Id                88889 non-null  object \n",
      " 1   Investigation.Type      88889 non-null  object \n",
      " 2   Accident.Number         88889 non-null  object \n",
      " 3   Event.Date              88889 non-null  object \n",
      " 4   Location                88837 non-null  object \n",
      " 5   Country                 88663 non-null  object \n",
      " 6   Latitude                34382 non-null  object \n",
      " 7   Longitude               34373 non-null  object \n",
      " 8   Airport.Code            50249 non-null  object \n",
      " 9   Airport.Name            52790 non-null  object \n",
      " 10  Injury.Severity         87889 non-null  object \n",
      " 11  Aircraft.damage         85695 non-null  object \n",
      " 12  Aircraft.Category       32287 non-null  object \n",
      " 13  Registration.Number     87572 non-null  object \n",
      " 14  Make                    88826 non-null  object \n",
      " 15  Model                   88797 non-null  object \n",
      " 16  Amateur.Built           88787 non-null  object \n",
      " 17  Number.of.Engines       82805 non-null  float64\n",
      " 18  Engine.Type             81812 non-null  object \n",
      " 19  FAR.Description         32023 non-null  object \n",
      " 20  Schedule                12582 non-null  object \n",
      " 21  Purpose.of.flight       82697 non-null  object \n",
      " 22  Air.carrier             16648 non-null  object \n",
      " 23  Total.Fatal.Injuries    77488 non-null  float64\n",
      " 24  Total.Serious.Injuries  76379 non-null  float64\n",
      " 25  Total.Minor.Injuries    76956 non-null  float64\n",
      " 26  Total.Uninjured         82977 non-null  float64\n",
      " 27  Weather.Condition       84397 non-null  object \n",
      " 28  Broad.phase.of.flight   61724 non-null  object \n",
      " 29  Report.Status           82508 non-null  object \n",
      " 30  Publication.Date        75118 non-null  object \n",
      "dtypes: float64(5), object(26)\n",
      "memory usage: 21.0+ MB\n"
     ]
    }
   ],
   "source": [
    "# Inspect the information of the dataframe\n",
    "df.info()"
   ]
  },
  {
   "cell_type": "markdown",
   "metadata": {},
   "source": [
    "From the above information, we can deduce that our dataframe has a shape of 88889 rows and 31 columns. \n",
    "The dataframe has 5 numerical columns and 26 categorical column. All the 5 numerical columns have float datatype.\n",
    "Of the 31 columns only the first 4 have complete entries, meaning 27 columns have missing values"
   ]
  },
  {
   "cell_type": "code",
   "execution_count": 28,
   "metadata": {},
   "outputs": [
    {
     "data": {
      "text/html": [
       "<div>\n",
       "<style scoped>\n",
       "    .dataframe tbody tr th:only-of-type {\n",
       "        vertical-align: middle;\n",
       "    }\n",
       "\n",
       "    .dataframe tbody tr th {\n",
       "        vertical-align: top;\n",
       "    }\n",
       "\n",
       "    .dataframe thead th {\n",
       "        text-align: right;\n",
       "    }\n",
       "</style>\n",
       "<table border=\"1\" class=\"dataframe\">\n",
       "  <thead>\n",
       "    <tr style=\"text-align: right;\">\n",
       "      <th></th>\n",
       "      <th>Number.of.Engines</th>\n",
       "      <th>Total.Fatal.Injuries</th>\n",
       "      <th>Total.Serious.Injuries</th>\n",
       "      <th>Total.Minor.Injuries</th>\n",
       "      <th>Total.Uninjured</th>\n",
       "    </tr>\n",
       "  </thead>\n",
       "  <tbody>\n",
       "    <tr>\n",
       "      <th>count</th>\n",
       "      <td>82805.000000</td>\n",
       "      <td>77488.000000</td>\n",
       "      <td>76379.000000</td>\n",
       "      <td>76956.000000</td>\n",
       "      <td>82977.000000</td>\n",
       "    </tr>\n",
       "    <tr>\n",
       "      <th>mean</th>\n",
       "      <td>1.146585</td>\n",
       "      <td>0.647855</td>\n",
       "      <td>0.279881</td>\n",
       "      <td>0.357061</td>\n",
       "      <td>5.325440</td>\n",
       "    </tr>\n",
       "    <tr>\n",
       "      <th>std</th>\n",
       "      <td>0.446510</td>\n",
       "      <td>5.485960</td>\n",
       "      <td>1.544084</td>\n",
       "      <td>2.235625</td>\n",
       "      <td>27.913634</td>\n",
       "    </tr>\n",
       "    <tr>\n",
       "      <th>min</th>\n",
       "      <td>0.000000</td>\n",
       "      <td>0.000000</td>\n",
       "      <td>0.000000</td>\n",
       "      <td>0.000000</td>\n",
       "      <td>0.000000</td>\n",
       "    </tr>\n",
       "    <tr>\n",
       "      <th>25%</th>\n",
       "      <td>1.000000</td>\n",
       "      <td>0.000000</td>\n",
       "      <td>0.000000</td>\n",
       "      <td>0.000000</td>\n",
       "      <td>0.000000</td>\n",
       "    </tr>\n",
       "    <tr>\n",
       "      <th>50%</th>\n",
       "      <td>1.000000</td>\n",
       "      <td>0.000000</td>\n",
       "      <td>0.000000</td>\n",
       "      <td>0.000000</td>\n",
       "      <td>1.000000</td>\n",
       "    </tr>\n",
       "    <tr>\n",
       "      <th>75%</th>\n",
       "      <td>1.000000</td>\n",
       "      <td>0.000000</td>\n",
       "      <td>0.000000</td>\n",
       "      <td>0.000000</td>\n",
       "      <td>2.000000</td>\n",
       "    </tr>\n",
       "    <tr>\n",
       "      <th>max</th>\n",
       "      <td>8.000000</td>\n",
       "      <td>349.000000</td>\n",
       "      <td>161.000000</td>\n",
       "      <td>380.000000</td>\n",
       "      <td>699.000000</td>\n",
       "    </tr>\n",
       "  </tbody>\n",
       "</table>\n",
       "</div>"
      ],
      "text/plain": [
       "       Number.of.Engines  Total.Fatal.Injuries  Total.Serious.Injuries  \\\n",
       "count       82805.000000          77488.000000            76379.000000   \n",
       "mean            1.146585              0.647855                0.279881   \n",
       "std             0.446510              5.485960                1.544084   \n",
       "min             0.000000              0.000000                0.000000   \n",
       "25%             1.000000              0.000000                0.000000   \n",
       "50%             1.000000              0.000000                0.000000   \n",
       "75%             1.000000              0.000000                0.000000   \n",
       "max             8.000000            349.000000              161.000000   \n",
       "\n",
       "       Total.Minor.Injuries  Total.Uninjured  \n",
       "count          76956.000000     82977.000000  \n",
       "mean               0.357061         5.325440  \n",
       "std                2.235625        27.913634  \n",
       "min                0.000000         0.000000  \n",
       "25%                0.000000         0.000000  \n",
       "50%                0.000000         1.000000  \n",
       "75%                0.000000         2.000000  \n",
       "max              380.000000       699.000000  "
      ]
     },
     "execution_count": 28,
     "metadata": {},
     "output_type": "execute_result"
    }
   ],
   "source": [
    "# Get summary statistics of the data\n",
    "df.describe()"
   ]
  },
  {
   "cell_type": "markdown",
   "metadata": {},
   "source": [
    "The above information is a statistical summary of the numerical column of the dataframe"
   ]
  },
  {
   "cell_type": "markdown",
   "metadata": {},
   "source": [
    "## 1.5 **Data Preparation**\n",
    "\n",
    "This step involved validation of the dataset. This involved identifying and handling missing values and duplicates so as to get a clean dataset"
   ]
  },
  {
   "cell_type": "code",
   "execution_count": 29,
   "metadata": {},
   "outputs": [
    {
     "data": {
      "text/plain": [
       "False    88889\n",
       "dtype: int64"
      ]
     },
     "execution_count": 29,
     "metadata": {},
     "output_type": "execute_result"
    }
   ],
   "source": [
    "# First Step is to create a copy of the original dataset\n",
    "df_clean = df.copy() # Henceforth we will use the copy to clean our dataset\n",
    "\n",
    "# Identify duplicates from the created copy of dataset\n",
    "df_clean.duplicated().value_counts()"
   ]
  },
  {
   "cell_type": "markdown",
   "metadata": {},
   "source": [
    "From the above output we can deduce that our dataset does not contain any duplicates"
   ]
  },
  {
   "cell_type": "code",
   "execution_count": 30,
   "metadata": {},
   "outputs": [
    {
     "data": {
      "text/plain": [
       "Event.Id                      0\n",
       "Investigation.Type            0\n",
       "Accident.Number               0\n",
       "Event.Date                    0\n",
       "Location                     52\n",
       "Country                     226\n",
       "Latitude                  54507\n",
       "Longitude                 54516\n",
       "Airport.Code              38640\n",
       "Airport.Name              36099\n",
       "Injury.Severity            1000\n",
       "Aircraft.damage            3194\n",
       "Aircraft.Category         56602\n",
       "Registration.Number        1317\n",
       "Make                         63\n",
       "Model                        92\n",
       "Amateur.Built               102\n",
       "Number.of.Engines          6084\n",
       "Engine.Type                7077\n",
       "FAR.Description           56866\n",
       "Schedule                  76307\n",
       "Purpose.of.flight          6192\n",
       "Air.carrier               72241\n",
       "Total.Fatal.Injuries      11401\n",
       "Total.Serious.Injuries    12510\n",
       "Total.Minor.Injuries      11933\n",
       "Total.Uninjured            5912\n",
       "Weather.Condition          4492\n",
       "Broad.phase.of.flight     27165\n",
       "Report.Status              6381\n",
       "Publication.Date          13771\n",
       "dtype: int64"
      ]
     },
     "execution_count": 30,
     "metadata": {},
     "output_type": "execute_result"
    }
   ],
   "source": [
    "# Next we display a breakdown of missing values in our dataset\n",
    "df_clean.isna().sum()"
   ]
  },
  {
   "cell_type": "code",
   "execution_count": 31,
   "metadata": {},
   "outputs": [
    {
     "name": "stdout",
     "output_type": "stream",
     "text": [
      "<class 'pandas.core.frame.DataFrame'>\n",
      "RangeIndex: 88889 entries, 0 to 88888\n",
      "Data columns (total 31 columns):\n",
      " #   Column                  Non-Null Count  Dtype  \n",
      "---  ------                  --------------  -----  \n",
      " 0   Event.Id                88889 non-null  object \n",
      " 1   Investigation.Type      88889 non-null  object \n",
      " 2   Accident.Number         88889 non-null  object \n",
      " 3   Event.Date              88889 non-null  object \n",
      " 4   Location                88889 non-null  object \n",
      " 5   Country                 88889 non-null  object \n",
      " 6   Latitude                88889 non-null  object \n",
      " 7   Longitude               88889 non-null  object \n",
      " 8   Airport.Code            88889 non-null  object \n",
      " 9   Airport.Name            88889 non-null  object \n",
      " 10  Injury.Severity         88889 non-null  object \n",
      " 11  Aircraft.damage         88889 non-null  object \n",
      " 12  Aircraft.Category       88889 non-null  object \n",
      " 13  Registration.Number     88889 non-null  object \n",
      " 14  Make                    88889 non-null  object \n",
      " 15  Model                   88889 non-null  object \n",
      " 16  Amateur.Built           88889 non-null  object \n",
      " 17  Number.of.Engines       88889 non-null  float64\n",
      " 18  Engine.Type             88889 non-null  object \n",
      " 19  FAR.Description         88889 non-null  object \n",
      " 20  Schedule                88889 non-null  object \n",
      " 21  Purpose.of.flight       88889 non-null  object \n",
      " 22  Air.carrier             88889 non-null  object \n",
      " 23  Total.Fatal.Injuries    88889 non-null  float64\n",
      " 24  Total.Serious.Injuries  88889 non-null  float64\n",
      " 25  Total.Minor.Injuries    88889 non-null  float64\n",
      " 26  Total.Uninjured         88889 non-null  float64\n",
      " 27  Weather.Condition       88889 non-null  object \n",
      " 28  Broad.phase.of.flight   88889 non-null  object \n",
      " 29  Report.Status           88889 non-null  object \n",
      " 30  Publication.Date        88889 non-null  object \n",
      "dtypes: float64(5), object(26)\n",
      "memory usage: 21.0+ MB\n"
     ]
    }
   ],
   "source": [
    "# Next we replace our missing values \n",
    "for col in df_clean.columns:\n",
    "    if str(df_clean[col].dtype) == 'object':\n",
    "        df_clean[col].fillna('Unknown', inplace=True)\n",
    "    else:\n",
    "        df_clean[col].fillna(0, inplace=True)\n",
    "df_clean.info()"
   ]
  },
  {
   "cell_type": "markdown",
   "metadata": {},
   "source": [
    "The above output involved creating a 'for' loop that iterates through our dataset columns and fill the missing values with the set values based on the datatype. Replacing the missing values helps avoid unexpected arrors and completeness of the dataset for analysis.Filling of the missing values in Categorical column with placeholder 'Unknown' and numeriacl column with zero allows me to maintain consistency of dataset without dropping valuable records, hence avoiding bias."
   ]
  },
  {
   "cell_type": "code",
   "execution_count": 32,
   "metadata": {},
   "outputs": [],
   "source": [
    "# Convert our date column to datetime\n",
    "df_clean['Event.Date'] = pd.to_datetime(df_clean['Event.Date'])\n",
    "\n",
    "# Create a year column on our dataset\n",
    "df_clean['Year'] = df_clean['Event.Date'].dt.year.astype(int)\n",
    "\n",
    "# Filter for the 21st century only\n",
    "df_clean = df_clean[df_clean['Year'] >= 2000]"
   ]
  },
  {
   "cell_type": "markdown",
   "metadata": {},
   "source": [
    "The above code filters out the discontinued and outdated aircrafts and leaves us with only aircrafts active in the 21st century"
   ]
  },
  {
   "cell_type": "code",
   "execution_count": 33,
   "metadata": {},
   "outputs": [
    {
     "data": {
      "text/plain": [
       "array(['Positioning', 'Personal', 'Instructional', 'Unknown',\n",
       "       'Aerial Observation', 'Ferry', 'Public Aircraft', 'Business',\n",
       "       'Aerial Application', 'Executive/corporate', 'Other Work Use',\n",
       "       'Flight Test', 'Skydiving', 'Air Race/show', 'Air Drop',\n",
       "       'Public Aircraft - Federal', 'Glider Tow',\n",
       "       'Public Aircraft - Local', 'External Load',\n",
       "       'Public Aircraft - State', 'Banner Tow', 'Firefighting',\n",
       "       'Air Race show', 'PUBS', 'ASHO', 'PUBL'], dtype=object)"
      ]
     },
     "execution_count": 33,
     "metadata": {},
     "output_type": "execute_result"
    }
   ],
   "source": [
    "# Identify the unique operational purpose of each flight\n",
    "df_clean['Purpose.of.flight'].unique()"
   ]
  },
  {
   "cell_type": "code",
   "execution_count": 34,
   "metadata": {},
   "outputs": [
    {
     "data": {
      "text/html": [
       "<div>\n",
       "<style scoped>\n",
       "    .dataframe tbody tr th:only-of-type {\n",
       "        vertical-align: middle;\n",
       "    }\n",
       "\n",
       "    .dataframe tbody tr th {\n",
       "        vertical-align: top;\n",
       "    }\n",
       "\n",
       "    .dataframe thead th {\n",
       "        text-align: right;\n",
       "    }\n",
       "</style>\n",
       "<table border=\"1\" class=\"dataframe\">\n",
       "  <thead>\n",
       "    <tr style=\"text-align: right;\">\n",
       "      <th></th>\n",
       "      <th>Event.Id</th>\n",
       "      <th>Investigation.Type</th>\n",
       "      <th>Accident.Number</th>\n",
       "      <th>Event.Date</th>\n",
       "      <th>Location</th>\n",
       "      <th>Country</th>\n",
       "      <th>Latitude</th>\n",
       "      <th>Longitude</th>\n",
       "      <th>Airport.Code</th>\n",
       "      <th>Airport.Name</th>\n",
       "      <th>...</th>\n",
       "      <th>Total.Fatal.Injuries</th>\n",
       "      <th>Total.Serious.Injuries</th>\n",
       "      <th>Total.Minor.Injuries</th>\n",
       "      <th>Total.Uninjured</th>\n",
       "      <th>Weather.Condition</th>\n",
       "      <th>Broad.phase.of.flight</th>\n",
       "      <th>Report.Status</th>\n",
       "      <th>Publication.Date</th>\n",
       "      <th>Year</th>\n",
       "      <th>Category of Purpose</th>\n",
       "    </tr>\n",
       "  </thead>\n",
       "  <tbody>\n",
       "    <tr>\n",
       "      <th>47676</th>\n",
       "      <td>20001212X20327</td>\n",
       "      <td>Accident</td>\n",
       "      <td>ATL00FA019</td>\n",
       "      <td>2000-01-01</td>\n",
       "      <td>MONTEAGLE, TN</td>\n",
       "      <td>United States</td>\n",
       "      <td>Unknown</td>\n",
       "      <td>Unknown</td>\n",
       "      <td>Unknown</td>\n",
       "      <td>Unknown</td>\n",
       "      <td>...</td>\n",
       "      <td>2.0</td>\n",
       "      <td>0.0</td>\n",
       "      <td>0.0</td>\n",
       "      <td>0.0</td>\n",
       "      <td>IMC</td>\n",
       "      <td>Cruise</td>\n",
       "      <td>Probable Cause</td>\n",
       "      <td>19-04-2001</td>\n",
       "      <td>2000</td>\n",
       "      <td>Private</td>\n",
       "    </tr>\n",
       "    <tr>\n",
       "      <th>47677</th>\n",
       "      <td>20001212X20383</td>\n",
       "      <td>Accident</td>\n",
       "      <td>LAX00LA063</td>\n",
       "      <td>2000-01-02</td>\n",
       "      <td>VICTORVILLE, CA</td>\n",
       "      <td>United States</td>\n",
       "      <td>Unknown</td>\n",
       "      <td>Unknown</td>\n",
       "      <td>Unknown</td>\n",
       "      <td>Unknown</td>\n",
       "      <td>...</td>\n",
       "      <td>0.0</td>\n",
       "      <td>0.0</td>\n",
       "      <td>0.0</td>\n",
       "      <td>2.0</td>\n",
       "      <td>VMC</td>\n",
       "      <td>Cruise</td>\n",
       "      <td>Probable Cause</td>\n",
       "      <td>04-12-2000</td>\n",
       "      <td>2000</td>\n",
       "      <td>Private</td>\n",
       "    </tr>\n",
       "    <tr>\n",
       "      <th>47679</th>\n",
       "      <td>20001212X20364</td>\n",
       "      <td>Accident</td>\n",
       "      <td>FTW00LA067</td>\n",
       "      <td>2000-01-02</td>\n",
       "      <td>CORNING, AR</td>\n",
       "      <td>United States</td>\n",
       "      <td>Unknown</td>\n",
       "      <td>Unknown</td>\n",
       "      <td>Unknown</td>\n",
       "      <td>Unknown</td>\n",
       "      <td>...</td>\n",
       "      <td>0.0</td>\n",
       "      <td>0.0</td>\n",
       "      <td>0.0</td>\n",
       "      <td>5.0</td>\n",
       "      <td>VMC</td>\n",
       "      <td>Cruise</td>\n",
       "      <td>Probable Cause</td>\n",
       "      <td>02-03-2001</td>\n",
       "      <td>2000</td>\n",
       "      <td>Private</td>\n",
       "    </tr>\n",
       "    <tr>\n",
       "      <th>47680</th>\n",
       "      <td>20001212X20358</td>\n",
       "      <td>Accident</td>\n",
       "      <td>FTW00LA057</td>\n",
       "      <td>2000-01-02</td>\n",
       "      <td>ODESSA, TX</td>\n",
       "      <td>United States</td>\n",
       "      <td>Unknown</td>\n",
       "      <td>Unknown</td>\n",
       "      <td>Unknown</td>\n",
       "      <td>Unknown</td>\n",
       "      <td>...</td>\n",
       "      <td>0.0</td>\n",
       "      <td>0.0</td>\n",
       "      <td>0.0</td>\n",
       "      <td>2.0</td>\n",
       "      <td>VMC</td>\n",
       "      <td>Climb</td>\n",
       "      <td>Probable Cause</td>\n",
       "      <td>02-03-2001</td>\n",
       "      <td>2000</td>\n",
       "      <td>Private</td>\n",
       "    </tr>\n",
       "    <tr>\n",
       "      <th>47681</th>\n",
       "      <td>20001212X20344</td>\n",
       "      <td>Accident</td>\n",
       "      <td>DEN00FA037</td>\n",
       "      <td>2000-01-02</td>\n",
       "      <td>TELLURIDE, CO</td>\n",
       "      <td>United States</td>\n",
       "      <td>Unknown</td>\n",
       "      <td>Unknown</td>\n",
       "      <td>Unknown</td>\n",
       "      <td>Unknown</td>\n",
       "      <td>...</td>\n",
       "      <td>1.0</td>\n",
       "      <td>0.0</td>\n",
       "      <td>0.0</td>\n",
       "      <td>0.0</td>\n",
       "      <td>IMC</td>\n",
       "      <td>Climb</td>\n",
       "      <td>Probable Cause</td>\n",
       "      <td>19-04-2001</td>\n",
       "      <td>2000</td>\n",
       "      <td>Private</td>\n",
       "    </tr>\n",
       "  </tbody>\n",
       "</table>\n",
       "<p>5 rows × 33 columns</p>\n",
       "</div>"
      ],
      "text/plain": [
       "             Event.Id Investigation.Type Accident.Number Event.Date  \\\n",
       "47676  20001212X20327           Accident      ATL00FA019 2000-01-01   \n",
       "47677  20001212X20383           Accident      LAX00LA063 2000-01-02   \n",
       "47679  20001212X20364           Accident      FTW00LA067 2000-01-02   \n",
       "47680  20001212X20358           Accident      FTW00LA057 2000-01-02   \n",
       "47681  20001212X20344           Accident      DEN00FA037 2000-01-02   \n",
       "\n",
       "              Location        Country Latitude Longitude Airport.Code  \\\n",
       "47676    MONTEAGLE, TN  United States  Unknown   Unknown      Unknown   \n",
       "47677  VICTORVILLE, CA  United States  Unknown   Unknown      Unknown   \n",
       "47679      CORNING, AR  United States  Unknown   Unknown      Unknown   \n",
       "47680       ODESSA, TX  United States  Unknown   Unknown      Unknown   \n",
       "47681    TELLURIDE, CO  United States  Unknown   Unknown      Unknown   \n",
       "\n",
       "      Airport.Name  ... Total.Fatal.Injuries Total.Serious.Injuries  \\\n",
       "47676      Unknown  ...                  2.0                    0.0   \n",
       "47677      Unknown  ...                  0.0                    0.0   \n",
       "47679      Unknown  ...                  0.0                    0.0   \n",
       "47680      Unknown  ...                  0.0                    0.0   \n",
       "47681      Unknown  ...                  1.0                    0.0   \n",
       "\n",
       "      Total.Minor.Injuries Total.Uninjured Weather.Condition  \\\n",
       "47676                  0.0             0.0               IMC   \n",
       "47677                  0.0             2.0               VMC   \n",
       "47679                  0.0             5.0               VMC   \n",
       "47680                  0.0             2.0               VMC   \n",
       "47681                  0.0             0.0               IMC   \n",
       "\n",
       "      Broad.phase.of.flight   Report.Status  Publication.Date  Year  \\\n",
       "47676                Cruise  Probable Cause        19-04-2001  2000   \n",
       "47677                Cruise  Probable Cause        04-12-2000  2000   \n",
       "47679                Cruise  Probable Cause        02-03-2001  2000   \n",
       "47680                 Climb  Probable Cause        02-03-2001  2000   \n",
       "47681                 Climb  Probable Cause        19-04-2001  2000   \n",
       "\n",
       "      Category of Purpose  \n",
       "47676             Private  \n",
       "47677             Private  \n",
       "47679             Private  \n",
       "47680             Private  \n",
       "47681             Private  \n",
       "\n",
       "[5 rows x 33 columns]"
      ]
     },
     "execution_count": 34,
     "metadata": {},
     "output_type": "execute_result"
    }
   ],
   "source": [
    "# filter out private and commercial aircraft\n",
    "private = [\"Personal\", \"Executive/corporate\", \"Business\", \"Ferry\"]\n",
    "commercial = [\"Aerial Application\", \"Aerial Observation\", \"Air Carrier\", \"Public Aircraft\"]\n",
    "\n",
    "# Create an empty list\n",
    "flight_purpose = []\n",
    "\n",
    "for purpose in df_clean['Purpose.of.flight']:\n",
    "    if purpose in private:\n",
    "        flight_purpose.append('Private')\n",
    "    elif purpose in commercial:\n",
    "        flight_purpose.append('Commercial')\n",
    "    else:\n",
    "        flight_purpose.append('Other')\n",
    "\n",
    "# Create a new   column by assigning it to the empty list created above\n",
    "df_clean['Category of Purpose'] = flight_purpose\n",
    "\n",
    "df_clean_filter = df_clean.loc[(df_clean['Category of Purpose'] == 'Private') | (df_clean['Category of Purpose'] == 'Commercial')]\n",
    "# reassign the dataframe to sliced dataframe to convert it to dataframe\n",
    "df_clean_filter = df_clean_filter.copy()\n",
    "df_clean_filter.head()\n"
   ]
  },
  {
   "cell_type": "markdown",
   "metadata": {},
   "source": [
    "The above code filters out all aircrafts that are were not utilized for private and commercial flight use"
   ]
  },
  {
   "cell_type": "code",
   "execution_count": 35,
   "metadata": {},
   "outputs": [],
   "source": [
    "# Format the relevant categorical column\n",
    "df_clean_filter['Weather.Condition'] = df_clean_filter['Weather.Condition'].str.title() \n",
    "\n",
    "# Edit the initials of weather to the full names\n",
    "df_clean_filter['Weather.Condition'] = df_clean_filter['Weather.Condition'].apply( lambda x: 'Visual Meteorological Conditions' \n",
    "                                                                                  if x == 'Vmc' \n",
    "                                                                                  else 'Instrument Meteorological Conditions' \n",
    "                                                                                  if x == 'Imc' \n",
    "                                                                                  else \"Unknown\" \n",
    "                                                                                  if x == 'Unk' \n",
    "                                                                                  else x)\n",
    "df_clean_filter['Make'] = df_clean_filter['Make'].str.title()\n",
    "df_clean_filter['Model'] = df_clean_filter['Model'].str.upper()\n",
    "df_clean_filter['Make_and_Model'] = df_clean_filter['Make'] + ' ' + df_clean_filter['Model']"
   ]
  },
  {
   "cell_type": "markdown",
   "metadata": {},
   "source": [
    "The above code converts the first letter of the values in the 'Make' column to capital and converts all the 'Model' column values to Capital. This is important as it allows for consistency since python is case sensitive"
   ]
  },
  {
   "cell_type": "markdown",
   "metadata": {},
   "source": [
    "## 1.6 **Data Evaluation**\n",
    "\n",
    "### 1.6.1 Objective 1\n",
    "\n",
    "Our first objective is to identify type of aircraft with the lowest accident rates. This will involve analyzing the number of accidents based on aircraft 'Make' and 'Model' to determine the aircraft with the lowest risk of accidents\n",
    "\n"
   ]
  },
  {
   "cell_type": "code",
   "execution_count": 36,
   "metadata": {},
   "outputs": [
    {
     "data": {
      "image/png": "[encoded data removed]",
      "text/plain": [
       "<Figure size 720x432 with 1 Axes>"
      ]
     },
     "metadata": {
      "needs_background": "light"
     },
     "output_type": "display_data"
    }
   ],
   "source": [
    "# Identify the top aircraft with the most accidents encountered\n",
    "Most_accidents_by_aircraft = df_clean_filter['Make_and_Model'].value_counts().head(10)\n",
    "\n",
    "\n",
    "# lets plot in horizontal bar graph\n",
    "fig, ax = plt.subplots(figsize=(10,6))\n",
    "sns.barplot(y=Most_accidents_by_aircraft.index, x=Most_accidents_by_aircraft.values, palette=\"Reds_r\")\n",
    "ax.set(title='Top 10 Aircrafts by Number of Accidents', xlabel='Number of Accidents', ylabel= 'Aircraft Manufacturer')\n",
    "\n",
    "#save the image\n",
    "plt.savefig('Images/Risky-aircrafts.png')"
   ]
  },
  {
   "cell_type": "markdown",
   "metadata": {},
   "source": [
    "From the plot we see the top 10 aircrafts have encountered most accidents between 2000 and 2023. "
   ]
  },
  {
   "cell_type": "code",
   "execution_count": 37,
   "metadata": {},
   "outputs": [
    {
     "data": {
      "image/png": "[encoded data removed]",
      "text/plain": [
       "<Figure size 720x432 with 1 Axes>"
      ]
     },
     "metadata": {
      "needs_background": "light"
     },
     "output_type": "display_data"
    }
   ],
   "source": [
    "# Identify aircraft with the lowest number of accidents\n",
    "safest_aircraft_manufacturer = df_clean_filter['Make_and_Model'].value_counts().nsmallest(10)\n",
    "safest_aircraft_manufacturer\n",
    "\n",
    "# lets also plot the above\n",
    "fig, ax = plt.subplots(figsize=(10,6))\n",
    "sns.barplot(y=safest_aircraft_manufacturer.index, x=safest_aircraft_manufacturer.values, palette='Greens_r')\n",
    "ax.set(title='Top 10 Safest Aircraft Manufucturers', xlabel='Number of Accidents', ylabel= 'Aircraft Manufacturer', xlim=(0, 5))\n",
    "\n",
    "#save the image\n",
    "plt.savefig('Images/Safest-aircrafts.png')"
   ]
  },
  {
   "cell_type": "markdown",
   "metadata": {},
   "source": [
    "From the above output we see the safest aircraft based on the number of accidents encountered between 2000 and 2023. \n",
    "However, a lower number of accidents does not necessarily mean its the safest and having a large number of accidents does not necessarily mean its the riskiest without factoring in the number of aircrafts in operation during the period"
   ]
  },
  {
   "cell_type": "markdown",
   "metadata": {},
   "source": [
    "### 1.6.2 Objective 2\n",
    "\n",
    "Our second objective requires us to identify the risk factors contributing to accidents. Here we analyse the Weather conditions and the broad phase of the aircraft, for example landing or taking off, during the accident"
   ]
  },
  {
   "cell_type": "code",
   "execution_count": 38,
   "metadata": {},
   "outputs": [
    {
     "data": {
      "image/png": "[encoded data removed]",
      "text/plain": [
       "<Figure size 720x432 with 1 Axes>"
      ]
     },
     "metadata": {
      "needs_background": "light"
     },
     "output_type": "display_data"
    }
   ],
   "source": [
    "# Number of accidents per aircraft per year\n",
    "yearly_accidents = df_clean_filter.groupby('Year')['Make_and_Model'].count()\n",
    "yearly_accidents\n",
    "\n",
    "fig, ax = plt.subplots(figsize=(10,6))\n",
    "sns.lineplot(x=yearly_accidents.index, y=yearly_accidents.values, marker='o')\n",
    "ax.set(title=\"Aircraft Accidents' Trend Over the Years\", xlabel='Years', ylabel='Number of Accidents', ylim=(0,2000), \n",
    "       xlim=(2000,2023))\n",
    "ax.grid()\n",
    "\n",
    "#save the image\n",
    "plt.savefig('Images/Accident-trend.png')"
   ]
  },
  {
   "cell_type": "markdown",
   "metadata": {},
   "source": [
    "From the above output we can see that the overall accidents risk associated with the aircrafts is at a steady decline over the years"
   ]
  },
  {
   "cell_type": "code",
   "execution_count": 39,
   "metadata": {},
   "outputs": [
    {
     "data": {
      "image/png": "[encoded data removed]",
      "text/plain": [
       "<Figure size 720x432 with 1 Axes>"
      ]
     },
     "metadata": {
      "needs_background": "light"
     },
     "output_type": "display_data"
    }
   ],
   "source": [
    "# Weather as risk factor in aircraft accidents\n",
    "weather_risk = df_clean_filter['Weather.Condition'].value_counts()\n",
    "\n",
    "fig, ax = plt.subplots(figsize=(10,6))\n",
    "sns.barplot(y=weather_risk.values, x=weather_risk.index)\n",
    "ax.set(title='Impact of Weather on Number of Accidents', ylabel= 'Number of Accidents', xlabel = 'Weather Conditions')\n",
    "\n",
    "#save the image\n",
    "plt.savefig('Images/Weather-impact.png')"
   ]
  },
  {
   "cell_type": "markdown",
   "metadata": {},
   "source": [
    "From above output we can see that most accidents happened during Visual Meteorolofical Conditions, meaning that they happened when the weather conditions allowed the pilots to fly with visual references to the ground and other aircrafts without solely relying on intruments. This rules out weather conditions as primary cause of aircraft accidents"
   ]
  },
  {
   "cell_type": "code",
   "execution_count": 40,
   "metadata": {},
   "outputs": [
    {
     "data": {
      "image/png": "[encoded data removed]",
      "text/plain": [
       "<Figure size 720x504 with 1 Axes>"
      ]
     },
     "metadata": {
      "needs_background": "light"
     },
     "output_type": "display_data"
    }
   ],
   "source": [
    "# Identify the phase the aircraft was at time of accident\n",
    "aircraft_phase_on_accident = df_clean_filter['Broad.phase.of.flight'].value_counts()\n",
    "\n",
    "fig, ax\n",
    "\n",
    "fig, ax = plt.subplots(figsize=(10,7))\n",
    "sns.barplot(y=aircraft_phase_on_accident.index, x=aircraft_phase_on_accident.values, palette='Blues_r')\n",
    "ax.set(title='The Number of Accidents During Different Phases of Aircraft', ylabel= 'Phase of Aircraft', \n",
    "       xlabel = 'Number of Accidents')\n",
    "\n",
    "#save the image\n",
    "plt.savefig('Images/Flight-phase.png')"
   ]
  },
  {
   "cell_type": "markdown",
   "metadata": {},
   "source": [
    "From the above output we can clearly deduce that phase of accidents for most of accidents remain clearly unknown. But We can also clearly deduce that a significant number of accidents happened during landing, taking off and during cruising, hence we should view these 3 phases as major risk factors associated with aircraft accidents. "
   ]
  },
  {
   "cell_type": "markdown",
   "metadata": {},
   "source": [
    "### 1.6.3 Objective 3\n",
    "\n",
    "Our final objective is to evaluate risk factors associated with the opeartional purpose of the aircraft. This involved analysing the risk factors associated with purpose of aircraft, that is, private and commercial."
   ]
  },
  {
   "cell_type": "code",
   "execution_count": 41,
   "metadata": {},
   "outputs": [
    {
     "data": {
      "image/png": "[encoded data removed]",
      "text/plain": [
       "<Figure size 720x432 with 1 Axes>"
      ]
     },
     "metadata": {
      "needs_background": "light"
     },
     "output_type": "display_data"
    }
   ],
   "source": [
    "#Identify number of accidents based on the two operational purposes\n",
    "operational_category = df_clean_filter['Category of Purpose'].value_counts()\n",
    "\n",
    "fig, ax = plt.subplots(figsize=(10,6))\n",
    "sns.barplot(x=operational_category.index, y=operational_category.values)\n",
    "ax.set(title='Number of Accidents per Operations Category', xlabel='Operations category', ylabel='Number of Accidents')\n",
    "\n",
    "#save the image\n",
    "plt.savefig('Images/Operations-risk.png')"
   ]
  },
  {
   "cell_type": "markdown",
   "metadata": {},
   "source": [
    "From the above output we can clearly see that venturing into private flights is riskier compared to commercial fight due to the number of accidents by private flights"
   ]
  },
  {
   "cell_type": "code",
   "execution_count": 42,
   "metadata": {},
   "outputs": [],
   "source": [
    "# Next we save our cleaned data which will be useful during creation Dashboard\n",
    "df_clean_filter.to_csv('Data/CleanAviationData.csv')"
   ]
  },
  {
   "cell_type": "markdown",
   "metadata": {},
   "source": [
    "## 1.7 Summary\n",
    "\n",
    "From out analysis of the Aviation Data we can conclude the following:\n",
    "\n",
    "1. The aircrafts with the high number of accidents may be due to high levels of usage\n",
    "\n",
    "2. Adverse weather conditions is a significant risk factor in aircraft accidents but it has not been the primary risk factor in the  \n",
    "21st Century. Additionally, Significant number of accidents often occur during landing, taking off and cruising\n",
    "\n",
    "3. Private flights have encountered a significant high number of accidents as compared to commercial flights\n"
   ]
  }
 ],
 "metadata": {
  "kernelspec": {
   "display_name": "learn-env",
   "language": "python",
   "name": "python3"
  },
  "language_info": {
   "codemirror_mode": {
    "name": "ipython",
    "version": 3
   },
   "file_extension": ".py",
   "mimetype": "text/x-python",
   "name": "python",
   "nbconvert_exporter": "python",
   "pygments_lexer": "ipython3",
   "version": "3.8.5"
  }
 },
 "nbformat": 4,
 "nbformat_minor": 2
}
